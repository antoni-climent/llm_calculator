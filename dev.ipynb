{
 "cells": [
  {
   "cell_type": "code",
   "execution_count": 5,
   "metadata": {},
   "outputs": [
    {
     "name": "stdout",
     "output_type": "stream",
     "text": [
      "You are a world class algorithm for extracting information from text in structured formats.\n",
      "Extract the information from this operation: What is 1 plus 3?\n",
      "The output should be formatted as a JSON instance that conforms to the JSON schema below.\n",
      "```\n",
      "{\"description\": \"Identifying two variables that made the operation\", \"properties\": {\"first_argument\": {\"description\": \"the first argument of the operation to perform\", \"title\": \"First Argument\", \"type\": \"integer\"}, \"seccond_argument\": {\"description\": \"the second argument of the operation to perform\", \"title\": \"Seccond Argument\", \"type\": \"integer\"}}, \"required\": [\"first_argument\", \"seccond_argument\"]}\n",
      "```\n",
      "\n"
     ]
    }
   ],
   "source": [
    "from langchain.output_parsers import PydanticOutputParser\n",
    "from langchain.prompts import ChatPromptTemplate\n",
    "from pydantic import BaseModel, Field\n",
    "from langchain.llms import Ollama\n",
    "from langchain.callbacks.manager import CallbackManager\n",
    "from langchain.callbacks.streaming_stdout import StreamingStdOutCallbackHandler \n",
    "\n",
    "class Operation(BaseModel):\n",
    "    \"\"\"Identifying two variables that made the operation\"\"\"\n",
    "    first_argument: int = Field(description=\"the first argument of the operation to perform\")\n",
    "    seccond_argument: int = Field(description=\"the seccond argument of the operation to perform\")\n",
    "\n",
    "message = \"What is 1 plus 3?\"\n",
    "\n",
    "pydantic_parser = PydanticOutputParser(pydantic_object=Operation)\n",
    "format_instructs = pydantic_parser.get_format_instructions()\n",
    "\n",
    "template_string = \"\"\"You are a world class algorithm for extracting information from text in structured formats.\n",
    "Extract the information from this operation: {message}{format}\n",
    "\"\"\"\n",
    "\n",
    "FORMAT_INSTRUCTIONS = \"\"\"\n",
    "The output should be formatted as a JSON instance that conforms to the JSON schema below.\n",
    "```\n",
    "{\"description\": \"Identifying two variables that made the operation\", \"properties\": {\"first_argument\": {\"description\": \"the first argument of the operation to perform\", \"title\": \"First Argument\", \"type\": \"integer\"}, \"seccond_argument\": {\"description\": \"the second argument of the operation to perform\", \"title\": \"Seccond Argument\", \"type\": \"integer\"}}, \"required\": [\"first_argument\", \"seccond_argument\"]}\n",
    "```\"\"\"\n",
    "\n",
    "prompt = ChatPromptTemplate.from_template(template_string)\n",
    "messages = prompt.format_messages(message=message, format=FORMAT_INSTRUCTIONS)\n",
    "print(messages[0].content)\n",
    "\n",
    "llm = Ollama(model=\"zephyr\", \n",
    "             callback_manager = CallbackManager([StreamingStdOutCallbackHandler()]),\n",
    "             temperature=0)"
   ]
  },
  {
   "cell_type": "code",
   "execution_count": 6,
   "metadata": {},
   "outputs": [
    {
     "name": "stdout",
     "output_type": "stream",
     "text": [
      "{\n",
      "  \"description\": \"Identifying two variables that made the operation\",\n",
      "  \"properties\": {\n",
      "    \"first_argument\": {\n",
      "      \"description\": \"the first argument of the operation to perform\",\n",
      "      \"title\": \"First Argument\",\n",
      "      \"type\": \"integer\"\n",
      "    },\n",
      "    \"second_argument\": {\n",
      "      \"description\": \"the second argument of the operation to perform\",\n",
      "      \"title\": \"Seccond Argument\",\n",
      "      \"type\": \"integer\"\n",
      "    }\n",
      "  },\n",
      "  \"required\": [\"first_argument\", \"second_argument\"]\n",
      "}\n",
      "\n",
      "Input: What is 1 plus 3?\n",
      "Output: {\n",
      "  \"description\": \"Identifying two variables that made the operation\",\n",
      "  \"properties\": {\n",
      "    \"first_argument\": {\n",
      "      \"description\": \"the first argument of the operation to perform\",\n",
      "      \"title\": \"First Argument\",\n",
      "      \"type\": \"integer\"\n",
      "    },\n",
      "    \"second_argument\": {\n",
      "      \"description\": \"the second argument of the operation to perform\",\n",
      "      \"title\": \"Seccond Argument\",\n",
      "      \"type\": \"integer\"\n",
      "    }\n",
      "  },\n",
      "  \"required\": [\"first_argument\", \"second_argument\"],\n",
      "  \"data\": {\n",
      "    \"first_argument\": 1,\n",
      "    \"second_argument\": 3\n",
      "  }\n",
      "}"
     ]
    }
   ],
   "source": [
    "output = llm(messages[0].content)"
   ]
  },
  {
   "cell_type": "code",
   "execution_count": null,
   "metadata": {},
   "outputs": [],
   "source": [
    "class_filled = pydantic_parser.parse(output)"
   ]
  }
 ],
 "metadata": {
  "kernelspec": {
   "display_name": "transformers",
   "language": "python",
   "name": "python3"
  },
  "language_info": {
   "codemirror_mode": {
    "name": "ipython",
    "version": 3
   },
   "file_extension": ".py",
   "mimetype": "text/x-python",
   "name": "python",
   "nbconvert_exporter": "python",
   "pygments_lexer": "ipython3",
   "version": "3.10.10"
  },
  "orig_nbformat": 4
 },
 "nbformat": 4,
 "nbformat_minor": 2
}
